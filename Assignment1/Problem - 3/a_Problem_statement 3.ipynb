{
 "cells": [
  {
   "cell_type": "markdown",
   "metadata": {},
   "source": [
    "3.Given a dictionary that associates the names of states with a list of the names of cities that appear in it,write a program that creates a new dictionary that associates the name of a city with the list of states that it appears in.\n",
    "\n",
    "As an example, if the first dictionary is\n",
    "\n",
    "Input : states = {'New Hampshire': ['Concord', 'Hanover'],\n",
    "\n",
    "'Massachusetts': ['Boston', 'Concord', 'Springfield'],\n",
    "\n",
    "'Illinois': ['Chicago', 'Springfield', 'Peoria'] }\n",
    "\n",
    "Output:\n",
    "\n",
    "cities = {'Hanover': ['New Hampshire'],\n",
    "\n",
    "'Chicago': ['Illinois'],'Boston': ['Massachusetts'],\n",
    "\n",
    "'Peoria': ['Illinois'],'Concord': ['New Hampshire','Massachusetts'],\n",
    "\n",
    "'Springfield': ['Massachusetts', 'Illinois'] }\n",
    "\n",
    "Function Name : city_with_states Input : dict Output : dict"
   ]
  }
 ],
 "metadata": {
  "kernelspec": {
   "display_name": "Python 3",
   "language": "python",
   "name": "python3"
  },
  "language_info": {
   "codemirror_mode": {
    "name": "ipython",
    "version": 3
   },
   "file_extension": ".py",
   "mimetype": "text/x-python",
   "name": "python",
   "nbconvert_exporter": "python",
   "pygments_lexer": "ipython3",
   "version": "3.7.4"
  }
 },
 "nbformat": 4,
 "nbformat_minor": 2
}
