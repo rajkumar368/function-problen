{
 "cells": [
  {
   "cell_type": "markdown",
   "metadata": {},
   "source": [
    "4 . How do you check if a given String contains valid parentheses? Given a string containing just the     characters        '(', ')', '{', '}', '[' and ']', write a program in python to check if the         input string is valid. The brackets       must     close in the correct order, \"()\" and \"()[]{}\"     are all valid but \"(]\" and \"([)]\" are not.\n",
    "    Function Name : check_parentheses Input : str Output : True/False"
   ]
  }
 ],
 "metadata": {
  "kernelspec": {
   "display_name": "Python 3",
   "language": "python",
   "name": "python3"
  },
  "language_info": {
   "codemirror_mode": {
    "name": "ipython",
    "version": 3
   },
   "file_extension": ".py",
   "mimetype": "text/x-python",
   "name": "python",
   "nbconvert_exporter": "python",
   "pygments_lexer": "ipython3",
   "version": "3.7.4"
  }
 },
 "nbformat": 4,
 "nbformat_minor": 2
}
