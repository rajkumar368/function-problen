{
 "cells": [
  {
   "cell_type": "markdown",
   "metadata": {},
   "source": [
    "1.In the pre-smartphone era,each number key is assigned a subset of the alphabet {a,b,…,z}.\n",
    "\n",
    "- 2 is assigned {a,b,c}, \n",
    "- 3 is assigned {d,e,f} \n",
    "- 4 is assigned {g,h,i} \n",
    "- 5 is assigned {j,k,l}\n",
    "- 6 is assigned {m,n,o} \n",
    "- 7 is assigned {p,q,r,s}\n",
    "- 8 is assigned {t,u,v} \n",
    "- 9 is assigned {w,x,y,z}\n",
    "\n",
    "Write a function numbers_to_chars() to find the characters generated using key 9999335533. Output should be \"zeke\"\n",
    "\n",
    "Function Name : numbers_to_chars() Input : Integer number sequence Output : Str"
   ]
  },
  {
   "cell_type": "code",
   "execution_count": null,
   "metadata": {},
   "outputs": [],
   "source": [
    "def numbers_to_chars(integer_number_sequence):\n",
    "    d = {}\n",
    "    d[\"a\"] = 2\n",
    "    d[\"b\"] = 2\n",
    "    d[\"c\"] = 2\n",
    "    d[\"d\"] = 3\n",
    "    d[\"e\"] = 3\n",
    "    d[\"f\"] = 3\n",
    "    d[\"g\"] = 4\n",
    "    d[\"h\"] = 4\n",
    "    d[\"i\"] = 4\n",
    "    d[\"j\"] = 5\n",
    "    d[\"k\"] = 5\n",
    "    d[\"l\"] = 5\n",
    "    d[\"m\"] = 6\n",
    "    d[\"n\"] = 6\n",
    "    d[\"o\"] = 6\n",
    "    d[\"p\"] = 7\n",
    "    d[\"q\"] = 7\n",
    "    d[\"r\"] = 7\n",
    "    d[\"s\"] = 7\n",
    "    d[\"t\"] = 8\n",
    "    d[\"u\"] = 8\n",
    "    d[\"v\"] = 8\n",
    "    d[\"w\"] = 9\n",
    "    d[\"x\"] = 9\n",
    "    d[\"y\"] = 9\n",
    "    d[\"z\"] = 9\n",
    "# storing integer input into list.    \n",
    "    res = list(map(int,str(s)))\n",
    "# check if list element and dict value is equal then appending key into list and convert into string. \n",
    "    l1 = []\n",
    "    for value in res:\n",
    "        for value1 in d.items():\n",
    "            if value == value1[1]:\n",
    "                l1.append(value1[0])\n",
    "    print((\"\").join(l1))\n",
    "# not able to figure out how to control key from duplicate value. \n",
    "s = int(input())\n",
    "numbers_to_chars(s)"
   ]
  },
  {
   "cell_type": "markdown",
   "metadata": {},
   "source": [
    "2.Given a dict of tickets(\"to\":\"from\")\n",
    "\n",
    "{\"Chennai\":\"Banglore\",\"Bombay\":\"Delhi\",\"Goa\":\"Chennai\",\"Delhi\":\"Goa\"} find out the sequence of travel.\n",
    "\n",
    "Expected Output : Bombay->Delhi, Delhi->Goa, Goa->Chennai, Chennai->Banglore\n",
    "\n",
    "Function Name : travel_sequence Input : dict Output : dict"
   ]
  },
  {
   "cell_type": "code",
   "execution_count": 2,
   "metadata": {},
   "outputs": [
    {
     "name": "stdout",
     "output_type": "stream",
     "text": [
      "{'Bombay': 'Delhi', 'Delhi': 'Goa', 'Goa': 'Chennai', 'Chennai': 'Banglore'}\n"
     ]
    }
   ],
   "source": [
    "d = {\"Chennai\":\"Banglore\",\"Bombay\":\"Delhi\",\"Goa\":\"Chennai\",\"Delhi\":\"Goa\"}\n",
    "l2 = []\n",
    "d2 = {}\n",
    "d3 = {}\n",
    "# storing all value of dictionary into list.\n",
    "for value in d.values():\n",
    "    l2.append(value)\n",
    "# find the starting point and create new dictinary\n",
    "for item in sorted(d.items()):\n",
    "    if item[0] not in l2:\n",
    "        d2[item[0]] = item[1]\n",
    "        l2.remove(item[1])\n",
    "for item in d.items():\n",
    "     if item[0] not in l2:\n",
    "        d2[item[0]] = item[1]\n",
    "print(d2)"
   ]
  },
  {
   "cell_type": "markdown",
   "metadata": {},
   "source": [
    "3.Given a dictionary that associates the names of states with a list of the names of cities that appear in it,write a program that creates a new dictionary that associates the name of a city with the list of states that it appears in.\n",
    "\n",
    "As an example, if the first dictionary is\n",
    "\n",
    "Input : states = {'New Hampshire': ['Concord', 'Hanover'],\n",
    "\n",
    "'Massachusetts': ['Boston', 'Concord', 'Springfield'],\n",
    "\n",
    "'Illinois': ['Chicago', 'Springfield', 'Peoria'] }\n",
    "\n",
    "Output:\n",
    "\n",
    "cities = {'Hanover': ['New Hampshire'],\n",
    "\n",
    "'Chicago': ['Illinois'],'Boston': ['Massachusetts'],\n",
    "\n",
    "'Peoria': ['Illinois'],'Concord': ['New Hampshire','Massachusetts'],\n",
    "\n",
    "'Springfield': ['Massachusetts', 'Illinois'] }\n",
    "\n",
    "Function Name : city_with_states Input : dict Output : dict"
   ]
  },
  {
   "cell_type": "code",
   "execution_count": 3,
   "metadata": {},
   "outputs": [
    {
     "name": "stdout",
     "output_type": "stream",
     "text": [
      "{'Boston': ['Massachusetts'], 'Hanover': ['New Hampshire'], 'Springfield': ['Massachusetts', 'Illinois'], 'Chicago': ['Illinois'], 'Concord': ['New Hampshire', 'Massachusetts'], 'Peoria': ['Illinois']}\n"
     ]
    }
   ],
   "source": [
    "def city_with_states(d):\n",
    "    d2 = {}\n",
    "    l3 = []\n",
    "# creating a list and converting into set, which having unique set of dictionary value\n",
    "    for value in d.values():\n",
    "        l3.extend(value)\n",
    "        s = set(l3)\n",
    "# createing a new dictionary that associates with the name of a city as a key and list of states as a value.\n",
    "    for k in s:\n",
    "        d2[k] = [key for key, val in d.items() if k in val]\n",
    "    return d2\n",
    "\n",
    "d = {'New Hampshire': ['Concord', 'Hanover'],'Massachusetts': ['Boston', 'Concord', 'Springfield'],'Illinois': ['Chicago', 'Springfield', 'Peoria'] }    \n",
    "print(city_with_states(d))"
   ]
  },
  {
   "cell_type": "markdown",
   "metadata": {},
   "source": [
    "4. How do you check if a given String contains valid parentheses? Given a string containing just the characters '(', ')', '{', '}', '[' and ']', write a program in python to check if the input string is valid. The brackets must close in the correct order, \"()\" and \"()[]{}\" are all valid but \"(]\" and \"([)]\" are not.\n",
    "\n",
    "Function Name : check_parentheses Input : str Output : True/False"
   ]
  },
  {
   "cell_type": "code",
   "execution_count": 4,
   "metadata": {},
   "outputs": [
    {
     "name": "stdout",
     "output_type": "stream",
     "text": [
      "parentheses valid\n"
     ]
    }
   ],
   "source": [
    "def check_parentheses(str):\n",
    "    l2 = []\n",
    "# appending open brackets into list.\n",
    "    for bracket in str:\n",
    "        if bracket == \"(\" or bracket == \"[\" or bracket == \"{\":\n",
    "            l2.append(bracket)\n",
    "# checking closing bracket and poping bracket from list if it is not equal to remaimg opening bracket then  move next.\n",
    "        elif bracket == \")\":\n",
    "            x = l2.pop()\n",
    "            if x == \"{\" or x == \"[\":\n",
    "                return False\n",
    "        elif bracket == \"]\":\n",
    "            x = l2.pop()\n",
    "            if x == \"(\" or x ==\"{\":\n",
    "                return False\n",
    "        elif bracket == \"}\":\n",
    "            x = l2.pop()\n",
    "            if x == \"(\" or x ==\"[\":\n",
    "                return False\n",
    "    if len(str):\n",
    "        return True\n",
    "    else:\n",
    "        return False\n",
    "        \n",
    "str = \"({[]})\"\n",
    "if (check_parentheses(str)):\n",
    "    print(\"parentheses valid\")\n",
    "else:\n",
    "     print(\"parentheses Invalid\")"
   ]
  },
  {
   "cell_type": "markdown",
   "metadata": {},
   "source": [
    "5.Write a program to convert Integer to Roman String. For example, if a given integer is 5 then your program should print \"V\".\n",
    "\n",
    "Function Name : int_roman Input : int Output : str"
   ]
  },
  {
   "cell_type": "code",
   "execution_count": 5,
   "metadata": {},
   "outputs": [
    {
     "name": "stdout",
     "output_type": "stream",
     "text": [
      "5\n"
     ]
    },
    {
     "data": {
      "text/plain": [
       "'V'"
      ]
     },
     "execution_count": 5,
     "metadata": {},
     "output_type": "execute_result"
    }
   ],
   "source": [
    "# program to convert Integer to Roman String.\n",
    "def int_roman(num):\n",
    "    if num == 1:\n",
    "        return \"I\"\n",
    "    elif num == 2:\n",
    "        return \"II\"\n",
    "    elif num == 3:\n",
    "        return \"III\"\n",
    "    elif num == 4:\n",
    "        return \"IV\"\n",
    "    elif num == 5:\n",
    "        return \"V\"\n",
    "    elif num == 6:\n",
    "        return \"VI\"\n",
    "    elif num == 7:\n",
    "        return \"VII\"\n",
    "    elif num == 8:\n",
    "        return \"VIII\"\n",
    "    elif num == 9:\n",
    "        return \"IX\"\n",
    "    elif num == 10:\n",
    "        return \"X\"\n",
    "    elif num > 10 :\n",
    "        return \"Invalid input! this programe only convert 1 to 10 integer number into Roman\"\n",
    "    else:\n",
    "        return \"please Enter positive integer Number\"\n",
    "# programe only takes 1 to 10 integer input. for greater then 10 we have to swich on another program. \n",
    "num = int(input())\n",
    "int_roman(num)"
   ]
  },
  {
   "cell_type": "markdown",
   "metadata": {},
   "source": [
    "6.Write a program utility that counts the number of lines of actual python code in a. For the purpose of this exercise, a line is counted if it contains something other than whitespace or text in a comment.\n",
    "\n",
    "remember that comment start sequences that appear inside python strings should be ignored.\n",
    "\n",
    "Function Name : count_code_lines Input : str Output : int\n",
    "\n",
    "input_code = \"\"\"\n",
    "'#Linear search implementation\n",
    "'#Takes list and a key as input and returns True or False as answer\n",
    "def linear_saerch(l,key):\n",
    "    for value in l:\n",
    "        if key == value:\n",
    "            return True #Return True is key exist\n",
    "    else:\n",
    "        return False #Return False if key does not exist\n",
    "\n",
    "l = [100,200,300,400,500,600]\n",
    "key = 500\n",
    "result = linear_search(l,key)\n",
    "print(result)\n",
    "\"\"\""
   ]
  },
  {
   "cell_type": "code",
   "execution_count": 6,
   "metadata": {},
   "outputs": [
    {
     "name": "stdout",
     "output_type": "stream",
     "text": [
      "10\n"
     ]
    }
   ],
   "source": [
    "import re\n",
    "def count_code_lines(input_code):\n",
    "    l2 = []\n",
    "# covering str lines into list element.\n",
    "    line =  input_code.split(\"\\n\")\n",
    "# checking if space present then remove the elememt.\n",
    "    for i in range(len(line)):\n",
    "        if \"\" in line:\n",
    "            line.remove(\"\")\n",
    "# removing all comments and calculating number of line.\n",
    "    for word in line:\n",
    "        if word[0] != \"#\":\n",
    "            l2.append(word)\n",
    "    return len(l2)\n",
    "\n",
    "input_code = \"\"\"\n",
    "#Linear search implementation\n",
    "#Takes list and a key as input and returns True or False as answer\n",
    "def linear_saerch(l,key):\n",
    "    for value in l:\n",
    "        if key == value:\n",
    "            return True #Return True is key exist\n",
    "    else:\n",
    "        return False #Return False if key does not exist\n",
    "\n",
    "l = [100,200,300,400,500,600]\n",
    "key = 500\n",
    "result = linear_search(l,key)\n",
    "print(result)\n",
    "\"\"\"\n",
    "print(count_code_lines(input_code))"
   ]
  },
  {
   "cell_type": "markdown",
   "metadata": {},
   "source": [
    "7.Write a program to check the strength of a supplied password\n",
    "\n",
    "The length of the password must be at least 8 characters in length The password must contain at least 1 capital letter The password must contain at least 1 digit The password must contain at least 1 special character and allowed special characters are (!,@,#,$,&)\n",
    "\n",
    "We need to provide feedback to the user about the strength of their password\n",
    "\n",
    "Provide the user with a list of reasons why their password is 'weak'\n",
    "Function Name : check_password_strength Input : str Output : tuple (str,list) eg (\"Weak\",[\"The password must contain at least 1 capital letter\"])"
   ]
  },
  {
   "cell_type": "code",
   "execution_count": 7,
   "metadata": {},
   "outputs": [
    {
     "name": "stdout",
     "output_type": "stream",
     "text": [
      "valid password\n"
     ]
    }
   ],
   "source": [
    "import re\n",
    "def check_password_strength(str):\n",
    "    l2 = []\n",
    "    count = 0\n",
    "    while(count<1):\n",
    "# checking  passward length\n",
    "        if len(str) != 8:\n",
    "            x = \"Lenght of password must be atleast 8 characters\"\n",
    "            l2.append(x)\n",
    "            return(\"Weak\",l2)\n",
    "# checking capital letter\n",
    "        elif not re.search(\"[A-Z]\",str):\n",
    "            y = \"The password must contain atleast 1 capital letter\"\n",
    "            l2.append(y)\n",
    "            return(\"Weak\",l2)\n",
    "# checking digit\n",
    "        elif not re.search(\"[0-9]\",str):\n",
    "            z = \"The password must contain atleast 1 digit\"\n",
    "            l2.append(z)\n",
    "            return(\"Weak\",l2)\n",
    "# checking specail characters\n",
    "        elif not  re.search(\"[!@#$&]\",str):\n",
    "            p = \"The password must contain atleast 1 special characters\"\n",
    "            l2.append(p)\n",
    "            return(\"Weak\",l2)\n",
    "        else:\n",
    "            print(\"valid password\")\n",
    "            \n",
    "        count+=1\n",
    "\n",
    "(check_password_strength(\"raj@123M\"))          "
   ]
  },
  {
   "cell_type": "markdown",
   "metadata": {},
   "source": [
    "8. Check if given sentence is syntactically correct or not\n",
    "   A simple sentence if syntactically correct if it fulfills given rules. The following are given rules.\n",
    "\n",
    "Sentence must start with a Uppercase character (e.g. Noun/ I/ We/ He etc.)\n",
    "There must be spaces between words.\n",
    "Then the sentence must end with a full stop(.).\n",
    "Two continuous spaces are not allowed.\n",
    "Two continuous uppercase characters are not allowed.\n",
    "However the sentence can end after an uppercase character.\n",
    "Function Name : check_sentence Input : str Output : tuple (True/False,list) eg (False,[\"There must be spaces between words.\"])"
   ]
  },
  {
   "cell_type": "code",
   "execution_count": 8,
   "metadata": {},
   "outputs": [
    {
     "data": {
      "text/plain": [
       "(True, ['sentence is syntactically correct'])"
      ]
     },
     "execution_count": 8,
     "metadata": {},
     "output_type": "execute_result"
    }
   ],
   "source": [
    "def check_sentence(s):\n",
    "    l2 = []\n",
    "# sentence convert into list.\n",
    "    s1 = s.split(\" \")\n",
    "    for value in s1[:-1]:\n",
    "# checking continuous spaces.\n",
    "        if value.isalpha() == False:\n",
    "            p = \"continuous spaces are not allowed.\"\n",
    "            l2.append(p)\n",
    "            return(False,l2)\n",
    "            break\n",
    "# checking all element islower or not excepting first and last element.            \n",
    "    for word in s1[1:-1]:\n",
    "        if word.islower() == False:\n",
    "            q = \"Sentence must start with a Uppercase character then lowercase character follows\"\n",
    "            l2.append(q)\n",
    "            return(False,l2)\n",
    "            break\n",
    "# cheching sentence start with uppercase letter or not.            \n",
    "    if s1[0].istitle() == False:\n",
    "        r = \"Sentence must start with a Uppercase character\"\n",
    "        l2.append(r)\n",
    "        return(False,l2)\n",
    "# checkng last element is lowercase and can end with uppercase.   \n",
    "    elif s1[-1][:-2].islower() == False:\n",
    "        t = \"last word must follow lowercase, However word can end after an uppercase character\"\n",
    "        l2.append(t)\n",
    "        return(False,l2)\n",
    "# checking sentence end with full stop or not            \n",
    "    elif  s1[-1][-1] != \".\" :\n",
    "        u = \"Then the sentence must end with a full stop(.)\"\n",
    "        l2.append(u)\n",
    "        return(False,l2)\n",
    "# if all condition fulfill then sentence is syntactically correct    \n",
    "    else:\n",
    "        v = \"sentence is syntactically correct\"\n",
    "        l2.append(v)\n",
    "        return(True,l2) \n",
    "\n",
    "s = \"Rajkumr is good boY.\"\n",
    "check_sentence(s)"
   ]
  },
  {
   "cell_type": "markdown",
   "metadata": {},
   "source": [
    "9.Given an array arr[] of integers and an integer K, the task is to find the greatest contiguous sub-array of size K.\n",
    "\n",
    "Sub-array X is said to be greater than sub-array Y if the first non-matching element in both the sub-arrays has a greater value in X than in Y.\n",
    "\n",
    "For example : Input: arr[] = {1, 4, 3, 2, 5}, K = 4 Output: 4 3 2 5 Two subarrays are {1, 4, 3, 2} and {4, 3, 2, 5}. First non-matching element from array1 and array 2 : 1 and 4 as 4 is greater Hence, the greater one is {4, 3, 2, 5}\n",
    "\n",
    "Function Name : greatest_sub_array() Input : list Output : list"
   ]
  },
  {
   "cell_type": "code",
   "execution_count": 9,
   "metadata": {},
   "outputs": [
    {
     "name": "stdout",
     "output_type": "stream",
     "text": [
      "[4, 3, 2, 5]\n"
     ]
    }
   ],
   "source": [
    "def greatest_sub_array(list,k):\n",
    "    temp = []\n",
    "    l3 = []\n",
    "# creatng two sub array and storing into new list. \n",
    "    for i in range(0,2):\n",
    "        temp = []\n",
    "        for j in range(i,i+k):\n",
    "            temp.append(list[j])\n",
    "        l3.append(temp)\n",
    "# checking if the first non-matching element in both the sub-arrays has a greater value        \n",
    "    for p in range(len(l3[0])):\n",
    "        if l3[0][p]>l3[1][p]:\n",
    "            print(l3[0])\n",
    "            break\n",
    "            \n",
    "        elif l3[0][p]==l3[1][p]:\n",
    "            p = p+1\n",
    "            continue\n",
    "        else:\n",
    "            print(l3[1])\n",
    "            break\n",
    "        \n",
    "\n",
    "list = [1, 4, 3, 2, 5]\n",
    "k = 4\n",
    "greatest_sub_array(list,k)"
   ]
  },
  {
   "cell_type": "markdown",
   "metadata": {},
   "source": [
    "10.Given a list of N integers. The task is to eliminate the minimum number of elements such that in the resulting list the sum of any two adjacent values is even.\n",
    "\n",
    "Numbers = [1, 3, 5, 4, 2] Output = [1, 3, 5] Total elements removed 2 Elements to be removed [4,2]\n",
    "\n",
    "Function Name : adj_sum_even() Input : list Output : tuple(int,list)"
   ]
  },
  {
   "cell_type": "code",
   "execution_count": null,
   "metadata": {},
   "outputs": [],
   "source": [
    "# sum of any two adjacent values is even if adjacent values is odd in final list \n",
    "def adj_sum_even(list):\n",
    "    l2 = []\n",
    "    l3 = []\n",
    "# creating list of odd number and eliminate the minimum number of elements.\n",
    "    for num in list:\n",
    "        if num%2 != 0:\n",
    "            l2.append(num)\n",
    "        else:\n",
    "            t = l3.append(num)\n",
    "            \n",
    "    t = tuple(l3)\n",
    "    return(t,l2)\n",
    "    \n",
    "\n",
    "list = [1, 3, 5, 4, 2]  \n",
    "adj_sum_even(list)"
   ]
  }
 ],
 "metadata": {
  "kernelspec": {
   "display_name": "Python 3",
   "language": "python",
   "name": "python3"
  },
  "language_info": {
   "codemirror_mode": {
    "name": "ipython",
    "version": 3
   },
   "file_extension": ".py",
   "mimetype": "text/x-python",
   "name": "python",
   "nbconvert_exporter": "python",
   "pygments_lexer": "ipython3",
   "version": "3.7.4"
  }
 },
 "nbformat": 4,
 "nbformat_minor": 2
}
