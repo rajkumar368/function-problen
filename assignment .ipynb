{
 "cells": [
  {
   "cell_type": "markdown",
   "metadata": {},
   "source": [
    "# date format validation"
   ]
  },
  {
   "cell_type": "code",
   "execution_count": 1,
   "metadata": {},
   "outputs": [
    {
     "name": "stdout",
     "output_type": "stream",
     "text": [
      "date is correct 29-02-2016\n"
     ]
    }
   ],
   "source": [
    "import re\n",
    "s = \"29-02-2016\"\n",
    "r = re.compile(\"(?P<day>\\d{2})-(?P<month>\\d{2})-(?P<year>\\d{4})\")\n",
    "e = re.search(r,s)\n",
    "y = e.group(\"day\")\n",
    "x = e.group(\"month\")\n",
    "z = e.group(\"year\")\n",
    "y = int(y)\n",
    "x = int(x)\n",
    "z = int(z)\n",
    "if x==1 or x==3 or x==5 or x==7 or x==8 or x==10 or x==12:\n",
    "    max = 31\n",
    "elif x==4 or x==6 or x==9 or x==11:\n",
    "    max = 30\n",
    "elif z % 4 == 0 or z % 400 == 0 or z % 100 != 0:\n",
    "    max = 29\n",
    "else:\n",
    "    max = 28\n",
    "if x<1 or x>12:\n",
    "    print(\"enter correct date\")\n",
    "elif y<1 or y>max:\n",
    "    print(\"enter correct date\")\n",
    "else:\n",
    "    print(\"date is correct\",e.group())\n"
   ]
  },
  {
   "cell_type": "markdown",
   "metadata": {},
   "source": [
    "# E-mail validation"
   ]
  },
  {
   "cell_type": "code",
   "execution_count": 6,
   "metadata": {},
   "outputs": [
    {
     "name": "stdout",
     "output_type": "stream",
     "text": [
      "rathorerajkumar.3_68@gmail.com\n"
     ]
    }
   ],
   "source": [
    "import re\n",
    "s = \"rathorerajkumar.3_68@gmail.com\"\n",
    "r = re.compile(\"^\\w+?\\.?([0-9]+)?([0-9]_[0-9]+)?@\\w+(\\.[a-z]{2,3}){1,2}$\")\n",
    "e = re.search(r,s)\n",
    "if e:\n",
    "    print(e.group())\n",
    "else:\n",
    "    print(\"invalid\")"
   ]
  },
  {
   "cell_type": "markdown",
   "metadata": {},
   "source": [
    "# URL replacement"
   ]
  },
  {
   "cell_type": "code",
   "execution_count": 5,
   "metadata": {},
   "outputs": [
    {
     "name": "stdout",
     "output_type": "stream",
     "text": [
      "The code is present at url <a href=www.edyoda.com/code/python/bla/cla/fla</a> or <a href=www.github.com/edyoda/python</a>\n"
     ]
    }
   ],
   "source": [
    "s = \"The code is present at url www.edyoda.com/code/python/bla/cla/fla or www.github.com/edyoda/python\"\n",
    "p = re.compile(\"www\\.[a-z0-9]+\\.com(?:/[a-z]+)*\")\n",
    "r = re.findall(p,s)\n",
    "\n",
    "for val in r:\n",
    "    value1 = \"<a href=\" + val + \"</a>\"\n",
    "    s = s.replace(val, value1)\n",
    "    \n",
    "print(s)"
   ]
  }
 ],
 "metadata": {
  "kernelspec": {
   "display_name": "Python 3",
   "language": "python",
   "name": "python3"
  },
  "language_info": {
   "codemirror_mode": {
    "name": "ipython",
    "version": 3
   },
   "file_extension": ".py",
   "mimetype": "text/x-python",
   "name": "python",
   "nbconvert_exporter": "python",
   "pygments_lexer": "ipython3",
   "version": "3.7.4"
  }
 },
 "nbformat": 4,
 "nbformat_minor": 2
}
