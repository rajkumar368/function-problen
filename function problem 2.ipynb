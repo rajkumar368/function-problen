{
 "cells": [
  {
   "cell_type": "markdown",
   "metadata": {},
   "source": [
    "# problem related to function\n",
    "1. call a function with multipal word and return a string separeated by space containing only the word of even length? "
   ]
  },
  {
   "cell_type": "code",
   "execution_count": 4,
   "metadata": {},
   "outputs": [
    {
     "data": {
      "text/plain": [
       "'abcd avccehfi'"
      ]
     },
     "execution_count": 4,
     "metadata": {},
     "output_type": "execute_result"
    }
   ],
   "source": [
    "def checkcollector(*args):\n",
    "    l = []\n",
    "    for word in args:\n",
    "        if checkEven(word):\n",
    "            l.append(word)\n",
    "    res = (\" \").join(l)\n",
    "    return res\n",
    "        \n",
    "def checkEven(word):\n",
    "    if len(word)%2==0:\n",
    "        return True\n",
    "    else:\n",
    "        return False\n",
    "    \n",
    "checkcollector(\"abc\",\"abcd\",\"abctd\",\"avccehfi\")"
   ]
  },
  {
   "cell_type": "markdown",
   "metadata": {},
   "source": [
    "2. Take employee data and put them in a list?"
   ]
  },
  {
   "cell_type": "code",
   "execution_count": 15,
   "metadata": {},
   "outputs": [
    {
     "data": {
      "text/plain": [
       "[{'name': 'abc', 'age': 20, 'salary': 50000, 'location': 'rajasthan'},\n",
       " {'name': 'abc', 'age': 25, 'location': 'UP'}]"
      ]
     },
     "execution_count": 15,
     "metadata": {},
     "output_type": "execute_result"
    }
   ],
   "source": [
    "def createData(**kwargs):\n",
    "    l.append(kwargs)\n",
    "    \n",
    "l = []\n",
    "createData(name=\"abc\",age = 20,salary = 50000,location = \"rajasthan\")\n",
    "createData(name=\"abc\",age = 25,location = \"UP\")\n",
    "l\n",
    "\n",
    "# for emp in l:\n",
    "#     if \"salary\" in emp:\n",
    "#         print(emp)\n"
   ]
  },
  {
   "cell_type": "markdown",
   "metadata": {},
   "source": [
    "3. store student information in list and find topper?"
   ]
  },
  {
   "cell_type": "code",
   "execution_count": 51,
   "metadata": {},
   "outputs": [
    {
     "data": {
      "text/plain": [
       "'shubham'"
      ]
     },
     "execution_count": 51,
     "metadata": {},
     "output_type": "execute_result"
    }
   ],
   "source": [
    "def createStData(**kwargs):\n",
    "    l.append(kwargs)\n",
    "l = []\n",
    "createStData(name = \"shubham\", hindi = 98, english = 87, maths = 67, science = 78)\n",
    "createStData(name = \"karan\", hindi = 58, english = 67, maths = 60, science = 59)\n",
    "createStData(name = \"iliyas\", hindi = 48, english = 77, maths = 50, science = 98)\n",
    "createStData(name = \"aafrid\", hindi = 59, english = 87, maths = 60, science = 79)\n",
    "\n",
    "def checkgrade(l):\n",
    "    for student in l:\n",
    "        total_marks = 0\n",
    "        count = 0\n",
    "        for k,v in student.items():\n",
    "            if k != \"name\":\n",
    "                total_marks+=v\n",
    "                \n",
    "                count +=1\n",
    "        student[\"avg\"] = total_marks/count\n",
    "        \n",
    "checkgrade(l)\n",
    "l\n",
    "\n",
    "def findtopper(l):\n",
    "    def f(e):\n",
    "        return e[\"avg\"]\n",
    "    \n",
    "    return max(l,key = f)\n",
    "topper = findtopper(l)\n",
    "topper[\"name\"]\n",
    "    "
   ]
  }
 ],
 "metadata": {
  "kernelspec": {
   "display_name": "Python 3",
   "language": "python",
   "name": "python3"
  },
  "language_info": {
   "codemirror_mode": {
    "name": "ipython",
    "version": 3
   },
   "file_extension": ".py",
   "mimetype": "text/x-python",
   "name": "python",
   "nbconvert_exporter": "python",
   "pygments_lexer": "ipython3",
   "version": "3.7.4"
  }
 },
 "nbformat": 4,
 "nbformat_minor": 2
}
