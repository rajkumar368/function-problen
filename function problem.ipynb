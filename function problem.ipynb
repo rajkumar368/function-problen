{
 "cells": [
  {
   "cell_type": "markdown",
   "metadata": {},
   "source": [
    "# problem related to function \n",
    "\n",
    "1. Take two aregument,check if first number is even, multiply them otherwise add them and return the result\n"
   ]
  },
  {
   "cell_type": "code",
   "execution_count": null,
   "metadata": {},
   "outputs": [],
   "source": [
    "def checkEven(num1,num2):\n",
    "    if num1 % 2 == 0:\n",
    "        return num1*num2\n",
    "    else:\n",
    "        return num1 + num2\n",
    "    \n",
    "checkEven(10,20)"
   ]
  },
  {
   "cell_type": "markdown",
   "metadata": {},
   "source": [
    "2. Jack and jill Game -- jack increment by 2 and jill decrement by 2\n",
    "  \n",
    "   "
   ]
  },
  {
   "cell_type": "code",
   "execution_count": 10,
   "metadata": {},
   "outputs": [
    {
     "data": {
      "text/plain": [
       "20"
      ]
     },
     "execution_count": 10,
     "metadata": {},
     "output_type": "execute_result"
    }
   ],
   "source": [
    "value = 0\n",
    "def jackfunc():\n",
    "    global value\n",
    "    value+=2\n",
    "    \n",
    "def jillfunc():\n",
    "    global value\n",
    "    value-=1\n",
    "    \n",
    "i = 0\n",
    "while i<10:\n",
    "    jackfunc()\n",
    "    i+=1\n",
    "    \n",
    "value"
   ]
  },
  {
   "cell_type": "raw",
   "metadata": {},
   "source": [
    "i = 0\n",
    "while i<10:\n",
    "    jillfunc()\n",
    "    i+=1\n",
    "    \n",
    "value"
   ]
  },
  {
   "cell_type": "code",
   "execution_count": 9,
   "metadata": {},
   "outputs": [
    {
     "data": {
      "text/plain": [
       "20"
      ]
     },
     "execution_count": 9,
     "metadata": {},
     "output_type": "execute_result"
    }
   ],
   "source": [
    "value = 0\n",
    "def jackfunc(value):\n",
    "    value+=2\n",
    "    return value\n",
    "\n",
    "def jillfunc(value):\n",
    "    value-=1\n",
    "    return value\n",
    "\n",
    "i = 0\n",
    "while i<10:\n",
    "    value = jackfunc(value)\n",
    "    i += 1\n",
    "value"
   ]
  },
  {
   "cell_type": "markdown",
   "metadata": {},
   "source": [
    "3. write a function which takes a string,check if string contains vowel print it once otherwise print it twice? "
   ]
  },
  {
   "cell_type": "code",
   "execution_count": 48,
   "metadata": {},
   "outputs": [
    {
     "data": {
      "text/plain": [
       "True"
      ]
     },
     "execution_count": 48,
     "metadata": {},
     "output_type": "execute_result"
    }
   ],
   "source": [
    "def checkstring(word,vowel):\n",
    "    for char in word:\n",
    "        if char in vowel:\n",
    "            return True\n",
    "    else:\n",
    "        return False\n",
    "        \n",
    "checkstring(\"hello\",\"el\")"
   ]
  },
  {
   "cell_type": "code",
   "execution_count": null,
   "metadata": {},
   "outputs": [],
   "source": [
    "def timeCount(word,time):\n",
    "    for t in range(time):\n",
    "          print(word)"
   ]
  },
  {
   "cell_type": "code",
   "execution_count": 69,
   "metadata": {},
   "outputs": [
    {
     "name": "stdout",
     "output_type": "stream",
     "text": [
      "hello\n",
      "sdfr\n",
      "sdfr\n"
     ]
    }
   ],
   "source": [
    "def printCheck(word,vowel,time):\n",
    "    if checkstring(word,vowel):\n",
    "        print(word)\n",
    "    else:\n",
    "        timeCount(word,time)\n",
    "        \n",
    "printCheck(\"hello\",\"aeiou\",2)\n",
    "printCheck(\"sdfr\",\"aeiou\",2)"
   ]
  },
  {
   "cell_type": "markdown",
   "metadata": {},
   "source": [
    "4. use mymultFunc(10,20,31,43,18,7,40) and multiply all even number?"
   ]
  },
  {
   "cell_type": "code",
   "execution_count": 115,
   "metadata": {},
   "outputs": [
    {
     "data": {
      "text/plain": [
       "6000"
      ]
     },
     "execution_count": 115,
     "metadata": {},
     "output_type": "execute_result"
    }
   ],
   "source": [
    "res = 1\n",
    "def mymultFunc(*args):\n",
    "    global res\n",
    "    for value in args:\n",
    "        if value%2==0:\n",
    "            res*=value\n",
    "    return res\n",
    "mymultFunc(10,20,30,7,23)       \n",
    "\n",
    "            "
   ]
  }
 ],
 "metadata": {
  "kernelspec": {
   "display_name": "Python 3",
   "language": "python",
   "name": "python3"
  },
  "language_info": {
   "codemirror_mode": {
    "name": "ipython",
    "version": 3
   },
   "file_extension": ".py",
   "mimetype": "text/x-python",
   "name": "python",
   "nbconvert_exporter": "python",
   "pygments_lexer": "ipython3",
   "version": "3.7.4"
  }
 },
 "nbformat": 4,
 "nbformat_minor": 2
}
